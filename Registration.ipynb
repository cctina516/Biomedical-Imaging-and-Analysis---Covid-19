{
 "cells": [
  {
   "cell_type": "code",
   "execution_count": 2,
   "id": "egyptian-bibliography",
   "metadata": {},
   "outputs": [
    {
     "name": "stdout",
     "output_type": "stream",
     "text": [
      "Size:  512 512 106\n"
     ]
    }
   ],
   "source": [
    "%matplotlib inline\n",
    "\n",
    "import SimpleITK as sitk\n",
    "import sys\n",
    "import os\n",
    "import gui\n",
    "import matplotlib.pyplot as plt\n",
    "\n",
    "#from gui import PairedPointDataManipulation\n",
    "\n",
    "from ipywidgets import interact, fixed\n",
    "\n",
    "# read dicom\n",
    "reader = sitk.ImageSeriesReader()\n",
    "\n",
    "\n",
    "\n",
    "dicom_names = reader.GetGDCMSeriesFileNames('../Image Data/manifest-1608266677008/MIDRC-RICORD-1A/MIDRC-RICORD-1A-419639-000082/08-02-2002-CT CHEST WITHOUT CONTRAST-04614/601.000000-COR 3X3-86740')\n",
    "reader.SetFileNames(dicom_names)\n",
    "fixed_image = reader.Execute()\n",
    "size = fixed_image.GetSize()\n",
    "print('Size: ', size[0], size[1], size[2])\n",
    "\n",
    "#Second dicom not able to be read for some reason\n",
    "#dicom_names = reader.GetGDCMSeriesFileNames('../Image Data/manifest-1608266677008/MIDRC-RICORD-1A/MIDRC-RICORD-1A-419639-000082/08-02-2002-CT CHEST WITHOUT CONTRAST-04614/604.000000-COR 3X3-11320')\n",
    "#reader.setFileNames(dicom_names)\n",
    "#moving_image = reader.Execute()\n",
    "#size = moving_image.GetSize()\n",
    "#print('Size: ', size[0], size[1], size[2])\n",
    "\n",
    "#print(\"Writing image:\", )\n",
    "#sitk.WriteImage(fixed_image, )\n",
    "\n",
    "#print(fixed_image)\n",
    "\n",
    "\n",
    "\n",
    "#gui.MultiImageDisplay(image_list = [fixed_image, moving_image],                   \n",
    "#                      title_list = ['fixed', 'moving'], figure_size=(8,4), window_level_list=[ct_window_level, mr_window_level]);\n",
    "#print(moving_image)\n",
    "\n",
    "reg_method = sitk.ImageRegistrationMethod()\n",
    "# Similarity metrics\n",
    "# Cost function (metric), mutual info assumes both images have similarity, ie. ct and mri have similar features\n",
    "reg_method.SetMetricAsMattesMutualInformation(numberOfHistogramBins=50) # \n",
    "reg_method.SetMetricSamplingStrategy(registration_method.RANDOM) # random\n",
    "reg_method.SetMetricSamplingPercentage(0.01)  # 1% of pixels sampled needed\n",
    "\n",
    "# Optimizer (update), runs until similarity graph reaches convergence\n",
    "registration_method.SetOptimizerAsGradientDescent(learningRate=1.0, numberOfIterations=100, convergenceMinimumValue=1e-6, convergenceWindowSize=10)\n",
    "\n",
    "# Interpolator (Transform), linear for rotation and translation of non curved images\n",
    "registration_method.SetInterpolator(sitk.sitkLinear)"
   ]
  },
  {
   "cell_type": "code",
   "execution_count": null,
   "id": "enhanced-alias",
   "metadata": {},
   "outputs": [],
   "source": []
  },
  {
   "cell_type": "code",
   "execution_count": null,
   "id": "understanding-living",
   "metadata": {},
   "outputs": [],
   "source": []
  },
  {
   "cell_type": "code",
   "execution_count": null,
   "id": "diverse-lodge",
   "metadata": {},
   "outputs": [],
   "source": []
  }
 ],
 "metadata": {
  "kernelspec": {
   "display_name": "Python 3",
   "language": "python",
   "name": "python3"
  },
  "language_info": {
   "codemirror_mode": {
    "name": "ipython",
    "version": 3
   },
   "file_extension": ".py",
   "mimetype": "text/x-python",
   "name": "python",
   "nbconvert_exporter": "python",
   "pygments_lexer": "ipython3",
   "version": "3.8.5"
  }
 },
 "nbformat": 4,
 "nbformat_minor": 5
}
